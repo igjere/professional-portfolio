{
  "nbformat": 4,
  "nbformat_minor": 0,
  "metadata": {
    "colab": {
      "provenance": []
    },
    "kernelspec": {
      "name": "python3",
      "display_name": "Python 3"
    }
  },
  "cells": [
    {
      "cell_type": "markdown",
      "metadata": {
        "id": "9wUL_Fy5qUDI"
      },
      "source": [
        "# UTSA CS 3793: Assignment-3\n",
        "\n",
        "**Garcia - Jeremiah - (lnm248)**\n",
        "\n",
        "\n",
        "\n",
        "\n"
      ]
    },
    {
      "cell_type": "markdown",
      "metadata": {
        "id": "NM8b9KVYsETT"
      },
      "source": [
        "## Learning Objectives\n",
        "\n",
        "Implement 2 different machine learning algorithms\n",
        "*   Stochastic Gradient Descent\n",
        "*   ID3 Decision Tree\n"
      ]
    },
    {
      "cell_type": "markdown",
      "metadata": {
        "id": "LzR4Ic34zJlT"
      },
      "source": [
        "\n",
        "## Description\n",
        "\n",
        "This assignment is focused on **machine learning**, mainly on the implementation of 2 different algorithms - Stochastic Gradient Descent & ID3 decision tree.\n",
        "The assignment is divided into two sections, each for one unique ML algorithm.\n",
        "\n",
        "The base structure and comments are provided on what should be done. You can use some libraries that help support you for the successful completion of the assignment. However, you **CANNOT** use a complete library that contains the implementation of ML algorithms. You can get pieces of code from online, but please cite the source properly.\n"
      ]
    },
    {
      "cell_type": "markdown",
      "metadata": {
        "id": "vnPfmHAOteOI"
      },
      "source": [
        "##Import Libraries\n",
        "\n",
        "Write all the import statements here. This should be for both algorithm implmentations. As mentioned before, you can not use any premade ML libraries."
      ]
    },
    {
      "cell_type": "code",
      "metadata": {
        "id": "f9apbZGptej6"
      },
      "source": [
        "# import all required libraries\n",
        "import numpy as np\n",
        "import pandas as pd\n",
        "import matplotlib.pyplot as plt"
      ],
      "execution_count": 174,
      "outputs": []
    },
    {
      "cell_type": "code",
      "metadata": {
        "id": "fdqXyFZ95P0j"
      },
      "source": [
        "# Assume that the data files are in the following folder -- THIS WILL BE USED BY THE TA\n",
        "basePath = \"/content/drive/My Drive/Colab Notebooks/Artificial Intelligence/Data/\""
      ],
      "execution_count": 175,
      "outputs": []
    },
    {
      "cell_type": "markdown",
      "metadata": {
        "id": "YeYRnesWqvLm"
      },
      "source": [
        "#Stochastic Gradient Descent\n",
        "\n",
        "In this section, you will implement the Stochastic Gradient Descent algorithm. The training is for a **binary classification** task i.e. each instance will have a class value of 0 or 1. Also, assume that you are given **all binary-valued attributes** and that there are **no missing values** in the train or test data.\n"
      ]
    },
    {
      "cell_type": "markdown",
      "metadata": {
        "id": "IUVZIK6ctMi4"
      },
      "source": [
        "##Algorithm\n",
        "\n",
        "(40 points)\n",
        "\n",
        "Following are the data files that will be provided to you for the gradient descent algorithm implementation.\n",
        "\n",
        "*   Training file - 'gd-train.dat'\n",
        "*   Testing file - 'gd-test.dat'\n",
        "\n",
        "In these files, only non-space characters are relevant. The first line contains the attribute names. All the other lines are different example instances to be used for the algorithm. Each column holds values of the attributes, whereas the last column holds the class label for that instance.\n",
        "\n",
        "Write the code in the following code block, structure is provided. Instructions on the steps to follow are provided as comments.\n",
        "\n"
      ]
    },
    {
      "cell_type": "code",
      "metadata": {
        "id": "2XoSqVJG5FkG"
      },
      "source": [
        "# Data file name variables\n",
        "train_file = basePath + \"gd-train.dat\"\n",
        "test_file = basePath + \"gd-test.dat\""
      ],
      "execution_count": 176,
      "outputs": []
    },
    {
      "cell_type": "code",
      "metadata": {
        "id": "l73PTZtCPdxj"
      },
      "source": [
        "# Read the training and testing data files\n",
        "def read_data(file_path):\n",
        "    # Assuming the data format is correctly given as per the description\n",
        "    # Each line in the file represents a data instance\n",
        "    # Last value in each line is the class label, all previous values are attributes\n",
        "    # data = pd.read_csv(file_path, header=None)\n",
        "    # data = data.apply(pd.to_numeric)\n",
        "    # Assuming the last column is the class label\n",
        "    data = pd.read_csv(file_path, header=None, skiprows=1, delimiter=\"\\t\")\n",
        "    X = data.iloc[:, :-1].values\n",
        "    y = data.iloc[:, -1].values\n",
        "    return X, y"
      ],
      "execution_count": 177,
      "outputs": []
    },
    {
      "cell_type": "code",
      "metadata": {
        "id": "VN3FC2qcPfcR"
      },
      "source": [
        "# Activation Function - implement Sigmoid\n",
        "def activation_function(h):\n",
        "    # given 'h' compute and return 'z' based on the activation function implemented\n",
        "    return 1 / (1 + np.exp(-h))"
      ],
      "execution_count": 178,
      "outputs": []
    },
    {
      "cell_type": "code",
      "metadata": {
        "id": "V5njAQvmPmOC"
      },
      "source": [
        "# Train the model using the given training dataset and the learning rate\n",
        "# return the \"weights\" learnt for the perceptron - include the weight assocaited with bias as the last entry\n",
        "# def train(train_data, learning_rate=0.05):\n",
        "    # initialize weights to 0\n",
        "    # go through each training data instance\n",
        "        # get 'x' as one multi-variate data instance and 'y' as the ground truth class label\n",
        "        # obtain h(x)\n",
        "        # call the activation function with 'h' as parameter to obtain 'z'\n",
        "        # update all weights individually using learning_rate, (y-z), and the corresponding 'x'\n",
        "    # return the final learnt weights\n",
        "def train(X, y, learning_rate=0.05):\n",
        "    # Initialize weights to zeros\n",
        "    weights = np.zeros(X.shape[1] + 1)  # +1 for bias\n",
        "    # Iterating over each instance\n",
        "    for i in range(len(X)):\n",
        "        # Insert bias term in input data\n",
        "        xi = np.insert(X[i], 0, 1)  # Add bias = 1\n",
        "        h = np.dot(xi, weights)\n",
        "        z = activation_function(h)\n",
        "        # Update weights\n",
        "        # weights += learning_rate * (y[i] - z) * xi\n",
        "        y_i = float(y[i])\n",
        "        weights += learning_rate * (y_i - z) * xi\n",
        "    return weights"
      ],
      "execution_count": 179,
      "outputs": []
    },
    {
      "cell_type": "code",
      "metadata": {
        "id": "Gx98kNxDPq5B"
      },
      "source": [
        "# Test the model (weights learnt) using the given test dataset\n",
        "# return the accuracy value\n",
        "# def test(test_data, weights, threshold):\n",
        "    # go through each testing data instance\n",
        "        # get 'x' as one multi-variate data instance and 'y' as the ground truth class label\n",
        "        # obtain h(x)\n",
        "        # call the activation function with 'h' as parameter to obtain 'z'\n",
        "        # use 'threshold' to convert 'z' to either 0 or 1 so as to match to the ground truth binary labels\n",
        "        # compare the thresholded 'z' with 'y' to calculate the positive and negative instances for calculating accuracy\n",
        "    # return the accuracy value for the given test dataset\n",
        "def test(X, y, weights, threshold=0.5):\n",
        "    correct_predictions = 0\n",
        "    for i in range(len(X)):\n",
        "        xi = np.insert(X[i], 0, 1)  # Add bias = 1\n",
        "        h = np.dot(xi, weights)\n",
        "        z = activation_function(h)\n",
        "        prediction = 1 if z >= threshold else 0\n",
        "        if prediction == y[i]:\n",
        "            correct_predictions += 1\n",
        "    accuracy = correct_predictions / len(X)\n",
        "    return accuracy"
      ],
      "execution_count": 180,
      "outputs": []
    },
    {
      "cell_type": "code",
      "metadata": {
        "id": "_5B6IG0APxH4"
      },
      "source": [
        "# Gradient Descent function\n",
        "# def gradient_descent(df_train, df_test, learning_rate=0.05, threshold=0.5):\n",
        "    # call the train function to train the model and obtain the weights\n",
        "    # call the test function with the training dataset to obtain the training accuracy\n",
        "    # call the test function with the testing dataset to obtain the testing accuracy\n",
        "    # return (trainAccuracy, testAccuracy)\n",
        "training_accuracies = []\n",
        "testing_accuracies = []\n",
        "def gradient_descent(train_file, test_file, learning_rates=[0.05, 1]):\n",
        "    X_train, y_train = read_data(train_file)\n",
        "    X_test, y_test = read_data(test_file)\n",
        "\n",
        "    # Initialize lists to store accuracies\n",
        "\n",
        "    for lr in learning_rates:\n",
        "        weights = train(X_train, y_train, learning_rate=lr)\n",
        "        train_accuracy = test(X_train, y_train, weights)\n",
        "        test_accuracy = test(X_test, y_test, weights)\n",
        "        print(f\"Accuracy for LR of {lr:.2f} on Training set = {train_accuracy}%\")\n",
        "        print(f\"Accuracy for LR of {lr:.2f} on Testing set = {test_accuracy}%\")\n",
        "        print()\n",
        "        training_accuracies.append(train_accuracy)\n",
        "        testing_accuracies.append(test_accuracy)"
      ],
      "execution_count": 181,
      "outputs": []
    },
    {
      "cell_type": "code",
      "metadata": {
        "id": "MB_b5ButP3w3"
      },
      "source": [
        "# Threshold of 0.5 will be used to classify the instance for the test. If the value is >= 0.5, classify as 1 or else 0.\n",
        "threshold = 0.5"
      ],
      "execution_count": 182,
      "outputs": []
    },
    {
      "cell_type": "code",
      "metadata": {
        "id": "YdPwgSBOtb1P",
        "colab": {
          "base_uri": "https://localhost:8080/"
        },
        "outputId": "18212d9d-99d1-40b4-d640-1df51b71f6b7"
      },
      "source": [
        "gradient_descent(train_file, test_file, learning_rates=np.arange(0.05, 1.05, 0.05))"
      ],
      "execution_count": 183,
      "outputs": [
        {
          "output_type": "stream",
          "name": "stdout",
          "text": [
            "Accuracy for LR of 0.05 on Training set = 0.68%\n",
            "Accuracy for LR of 0.05 on Testing set = 0.7225%\n",
            "\n",
            "Accuracy for LR of 0.10 on Training set = 0.68%\n",
            "Accuracy for LR of 0.10 on Testing set = 0.7175%\n",
            "\n",
            "Accuracy for LR of 0.15 on Training set = 0.68%\n",
            "Accuracy for LR of 0.15 on Testing set = 0.7175%\n",
            "\n",
            "Accuracy for LR of 0.20 on Training set = 0.69%\n",
            "Accuracy for LR of 0.20 on Testing set = 0.715%\n",
            "\n",
            "Accuracy for LR of 0.25 on Training set = 0.69%\n",
            "Accuracy for LR of 0.25 on Testing set = 0.715%\n",
            "\n",
            "Accuracy for LR of 0.30 on Training set = 0.69%\n",
            "Accuracy for LR of 0.30 on Testing set = 0.7125%\n",
            "\n",
            "Accuracy for LR of 0.35 on Training set = 0.69%\n",
            "Accuracy for LR of 0.35 on Testing set = 0.705%\n",
            "\n",
            "Accuracy for LR of 0.40 on Training set = 0.7%\n",
            "Accuracy for LR of 0.40 on Testing set = 0.7075%\n",
            "\n",
            "Accuracy for LR of 0.45 on Training set = 0.69%\n",
            "Accuracy for LR of 0.45 on Testing set = 0.69%\n",
            "\n",
            "Accuracy for LR of 0.50 on Training set = 0.69%\n",
            "Accuracy for LR of 0.50 on Testing set = 0.695%\n",
            "\n",
            "Accuracy for LR of 0.55 on Training set = 0.69%\n",
            "Accuracy for LR of 0.55 on Testing set = 0.68%\n",
            "\n",
            "Accuracy for LR of 0.60 on Training set = 0.69%\n",
            "Accuracy for LR of 0.60 on Testing set = 0.675%\n",
            "\n",
            "Accuracy for LR of 0.65 on Training set = 0.69%\n",
            "Accuracy for LR of 0.65 on Testing set = 0.665%\n",
            "\n",
            "Accuracy for LR of 0.70 on Training set = 0.69%\n",
            "Accuracy for LR of 0.70 on Testing set = 0.6525%\n",
            "\n",
            "Accuracy for LR of 0.75 on Training set = 0.67%\n",
            "Accuracy for LR of 0.75 on Testing set = 0.6525%\n",
            "\n",
            "Accuracy for LR of 0.80 on Training set = 0.66%\n",
            "Accuracy for LR of 0.80 on Testing set = 0.6475%\n",
            "\n",
            "Accuracy for LR of 0.85 on Training set = 0.66%\n",
            "Accuracy for LR of 0.85 on Testing set = 0.645%\n",
            "\n",
            "Accuracy for LR of 0.90 on Training set = 0.65%\n",
            "Accuracy for LR of 0.90 on Testing set = 0.6425%\n",
            "\n",
            "Accuracy for LR of 0.95 on Training set = 0.67%\n",
            "Accuracy for LR of 0.95 on Testing set = 0.6425%\n",
            "\n",
            "Accuracy for LR of 1.00 on Training set = 0.67%\n",
            "Accuracy for LR of 1.00 on Testing set = 0.645%\n",
            "\n"
          ]
        }
      ]
    },
    {
      "cell_type": "markdown",
      "metadata": {
        "id": "lYxmgcnes9cS"
      },
      "source": [
        "##Extra Credit - Accuracy Plots\n",
        "\n",
        "(05 points)\n",
        "\n",
        "Use the above accuracy results on the training and testing data and write code to plot the graphs as mentioned in the code block below.\n",
        "\n"
      ]
    },
    {
      "cell_type": "code",
      "metadata": {
        "id": "fbBNakSDq0Wv",
        "colab": {
          "base_uri": "https://localhost:8080/",
          "height": 1000
        },
        "outputId": "a5269909-a779-46f6-fc3f-017b63d11610"
      },
      "source": [
        "# Plot the graphs for accuracy results.\n",
        "# There will be 2 graphs - one for training data and the other for testing data\n",
        "# For each graph,\n",
        "    # X-axis will be the learning rate going from 0.05-1 in increments on 0.05\n",
        "    # Y-axis will be the accuracy values at the selected learning rate.\n",
        "learning_rates = np.arange(0.05, 1.05, 0.05)\n",
        "# training_accuracies = np.random.uniform(low=0.7, high=1.0, size=len(learning_rates))  # Placeholder values\n",
        "# testing_accuracies = np.random.uniform(low=0.6, high=0.95, size=len(learning_rates))  # Placeholder values\n",
        "\n",
        "# Plot for Training Data Accuracy\n",
        "plt.figure(figsize=(10, 6))\n",
        "plt.plot(learning_rates, training_accuracies, marker='o', linestyle='-', color='b', label='Training Accuracy')\n",
        "plt.title('Training Data Accuracy by Learning Rate')\n",
        "plt.xlabel('Learning Rate')\n",
        "plt.ylabel('Accuracy')\n",
        "plt.xticks(learning_rates)\n",
        "plt.yticks(np.arange(0.2, 1.1, 0.2))\n",
        "plt.grid(True)\n",
        "plt.legend()\n",
        "plt.show()\n",
        "\n",
        "# Plot for Testing Data Accuracy\n",
        "plt.figure(figsize=(10, 6))\n",
        "plt.plot(learning_rates, testing_accuracies, marker='o', linestyle='-', color='r', label='Testing Accuracy')\n",
        "plt.title('Testing Data Accuracy by Learning Rate')\n",
        "plt.xlabel('Learning Rate')\n",
        "plt.ylabel('Accuracy')\n",
        "plt.xticks(learning_rates)\n",
        "plt.yticks(np.arange(0.2, 1.1, 0.2))\n",
        "plt.grid(True)\n",
        "plt.legend()\n",
        "plt.show()\n"
      ],
      "execution_count": 184,
      "outputs": [
        {
          "output_type": "display_data",
          "data": {
            "text/plain": [
              "<Figure size 1000x600 with 1 Axes>"
            ],
            "image/png": "[encoded data removed]"
          },
          "metadata": {}
        },
        {
          "output_type": "display_data",
          "data": {
            "text/plain": [
              "<Figure size 1000x600 with 1 Axes>"
            ],
            "image/png": "[encoded data removed]"
          },
          "metadata": {}
        }
      ]
    },
    {
      "cell_type": "markdown",
      "metadata": {
        "id": "onnqJYTEq0l3"
      },
      "source": [
        "#ID3 Decision Tree\n",
        "\n",
        "In this section, you will implement the ID3 Decision Tree algorithm. The training is for a **binary classification** task i.e. each instance will have a class value of 0 or 1. Also, assume that there are **no missing values** in the train or test data.\n"
      ]
    },
    {
      "cell_type": "markdown",
      "metadata": {
        "id": "eDNztBkTtRPw"
      },
      "source": [
        "## Algorithm\n",
        "\n",
        "(85 points)\n",
        "\n",
        "Following are the data files that will be provided to you for the ID3 algorithm implementation.\n",
        "\n",
        "*   Training file - 'id3-train.dat'\n",
        "*   Testing file - 'id3-test.dat'\n",
        "\n",
        "In these files, only non-space characters are relevant. The first line contains the attribute names. All the other lines are example instances to be used for the algorithm. Each column holds values of the attributes, whereas the last column holds the class label for that instance.\n",
        "\n",
        "In a decision tree, if you reach a leaf node but still have examples that belong to different classes, then choose the most frequent class (among the instances at the leaf node). If you reach a leaf node in the decision tree and have no examples left or the examples are equally split among multiple classes, then choose the class that is most frequent in the entire training set. You do not need to implement pruning. Also, don’t forget to use logarithm base 2 when computing entropy and set (0 log 0) to 0.\n",
        "\n",
        "Write the code in the following code block, structure is provided. Instructions on the steps to follow are provided as comments. The code should output the following 3 things:\n",
        "\n",
        "*   Print the Decision Tree created, in the following example format:\n",
        "\n",
        "    ```\n",
        "    attr1 = 0 :\n",
        "        attr2 = 0 :\n",
        "            attr3 = 0 : 1 -- 4\n",
        "            attr3 = 1 : 0 -- 9\n",
        "        attr2 = 1 :\n",
        "            attr4 = 0 : 0 -- 2\n",
        "            attr4 = 1 : 1 -- 10\n",
        "    attr1 = 1 :\n",
        "        attr2 = 1 : 1 -- 17\n",
        "\n",
        "    ```\n",
        "\n",
        "*   Accuracy on the Training data = x %\n",
        "*   Accuracy on the Test data = x %\n",
        "\n",
        "\n",
        "\n"
      ]
    },
    {
      "cell_type": "code",
      "metadata": {
        "id": "wTLz1lGYQJKS"
      },
      "source": [
        "class Node:\n",
        "  def __init__ (self,):\n",
        "    self.__label = None\n",
        "    self.__children = {}\n",
        "    self.__is_leaf = False\n",
        "    self.__class_label = None\n",
        "    self.__total_instances = 0\n",
        "\n",
        "  def get_label(self):\n",
        "    return self.__label\n",
        "\n",
        "  def get_children(self):\n",
        "    return self.__children\n",
        "\n",
        "  def get_is_leaf(self):\n",
        "    return self.__is_leaf\n",
        "\n",
        "  def get_class_label(self):\n",
        "    return self.__class_label\n",
        "\n",
        "  def get_total_instances(self):\n",
        "    return self.__total_instances\n",
        "\n",
        "  def set_label(self, label):\n",
        "    self.__label = label\n",
        "\n",
        "  def set_children(self, children):\n",
        "    self.__children = children\n",
        "\n",
        "  def set_is_leaf(self, is_leaf):\n",
        "    self.__is_leaf = is_leaf\n",
        "\n",
        "  def set_class_label(self, class_label):\n",
        "    self.__class_label = class_label\n",
        "\n",
        "  def set_total_instances(self, total_instances):\n",
        "    self.__total_instances = total_instances\n",
        "\n",
        "  def add_child(self, value, child_node):\n",
        "    self.get_children().update({value: child_node})\n",
        "\n",
        "\n",
        "  def __str__(self, level=0):\n",
        "    ret = \"\"\n",
        "    if self.get_is_leaf():\n",
        "        ret += f\" : {self.get_class_label()} -- {self.get_total_instances()}\"\n",
        "    ret += \"\\n\"\n",
        "\n",
        "    for value, child_node in sorted(self.get_children().items()):\n",
        "        ret += f\"{'   ' * level} {self.get_label()} = {value}\"\n",
        "        ret += child_node.__str__(level + 1)\n",
        "\n",
        "    return ret\n",
        "\n",
        "# Data file name variables\n",
        "train = basePath + \"id3-train.dat\"\n",
        "test = basePath + \"id3-test.dat\"\n",
        "\n"
      ],
      "execution_count": 185,
      "outputs": []
    },
    {
      "cell_type": "code",
      "metadata": {
        "id": "HwHYC6xjQP5D"
      },
      "source": [
        "# Pseudocode for the ID3 algorithm. Use this to create function(s).\n",
        "# def ID3(data, root, attributesRemaining):\n",
        "    # If you reach a leaf node in the decision tree and have no examples left or the examples are equally split among multiple classes\n",
        "        # Choose and the class that is most frequent in the entire training set and return the updated tree\n",
        "    # If all the instances have only one class label\n",
        "        # Make this as the leaf node and use the label as the class value of the node and return the updated tree\n",
        "    # If you reached a leaf node but still have examples that belong to different classes (there are no remaining attributes to be split)\n",
        "        # Assign the most frequent class among the instances at the leaf node and return the updated tree\n",
        "    # Find the best attribute to split by calculating the maximum information gain from the attributes remaining by calculating the entropy\n",
        "    # Split the tree using the best attribute and recursively call the ID3 function using DFS to fill the sub-tree\n",
        "    # return the root as the tree\n",
        "def ID3(all_data, data, root, attributesRemaining):\n",
        "  class_count = data['class'].value_counts()\n",
        "\n",
        "  # If all the instances have only one class label\n",
        "  if data['class'].nunique() == 1:\n",
        "    # Make this as the leaf node and use the label as the class value of the node and return the updated tree\n",
        "    root.set_is_leaf(True)\n",
        "    root.set_class_label(data['class'].unique()[0])\n",
        "    root.set_total_instances(data.shape[0])\n",
        "    return\n",
        "\n",
        "  # If you reach a leaf node in the decision tree and have no examples left or the examples are equally split among multiple classes\n",
        "  elif data.empty or ((data['class'].nunique() != 1) and (class_count[0] == class_count[1])):\n",
        "    root.set_is_leaf(True)\n",
        "    all_class_count = all_data['class'].value_counts()\n",
        "    # Choose and the class that is most frequent in the entire training set and return the updated tree\n",
        "    root.set_class_label(all_class_count.idxmax())\n",
        "    root.set_total_instances(data.shape[0])\n",
        "    return\n",
        "\n",
        "  # If you reached a leaf node but still have examples that belong to different classes (there are no remaining attributes to be split)\n",
        "  elif not attributesRemaining and (data['class'].nunique() != 1):\n",
        "    # Assign the most frequent class among the instances at the leaf node and return the updated tree\n",
        "    root.set_is_leaf(True)\n",
        "    root.set_class_label(class_count.idxmax())\n",
        "    root.set_total_instances(data.shape[0])\n",
        "    return\n",
        "\n",
        "  curr_class_count = data['class'].value_counts()\n",
        "  curr_instances = all_data.shape[0]\n",
        "\n",
        "  if len(curr_class_count) < 2:\n",
        "    if curr_class_count.index[0] != 0:\n",
        "      curr_true = curr_class_count[1]/curr_instances\n",
        "      curr_entropy = 0 + (-curr_true * np.log2(curr_true))\n",
        "    elif curr_class_count.index[0] != 1:\n",
        "      curr_false = curr_class_count[0]/curr_instances\n",
        "      curr_entropy = (-curr_false * np.log2(curr_false)) + 0\n",
        "  else:\n",
        "    curr_false = curr_class_count[0]/curr_instances\n",
        "    curr_true = curr_class_count[1]/curr_instances\n",
        "    curr_entropy = (-curr_false * np.log2(curr_false)) + (-curr_true * np.log2(curr_true))\n",
        "\n",
        "  aig = {}\n",
        "\n",
        "  for attribute in attributesRemaining:\n",
        "    # Calculate counts and instances for when the attribute is 0\n",
        "    attribute_class_count_0 = data[data[attribute] == 0]['class'].value_counts()\n",
        "    attribute_instances_0 = data[data[attribute] == 0]['class'].shape[0]\n",
        "\n",
        "    if attribute_instances_0 > 0:\n",
        "        attribute_false_0 = attribute_class_count_0.get(0, 0) / attribute_instances_0\n",
        "        attribute_true_0 = attribute_class_count_0.get(1, 0) / attribute_instances_0\n",
        "        attribute_entropy_0 = 0\n",
        "        if attribute_false_0 > 0:\n",
        "            attribute_entropy_0 += (-attribute_false_0 * np.log2(attribute_false_0))\n",
        "        if attribute_true_0 > 0:\n",
        "            attribute_entropy_0 += (-attribute_true_0 * np.log2(attribute_true_0))\n",
        "    else:\n",
        "        attribute_entropy_0 = 0\n",
        "\n",
        "    # Repeat the process for when the attribute is 1\n",
        "    attribute_class_count_1 = data[data[attribute] == 1]['class'].value_counts()\n",
        "    attribute_instances_1 = data[data[attribute] == 1]['class'].shape[0]\n",
        "\n",
        "    # Safe division to calculate probabilities and entropy for attribute == 1\n",
        "    if attribute_instances_1 > 0:\n",
        "        attribute_false_1 = attribute_class_count_1.get(0, 0) / attribute_instances_1\n",
        "        attribute_true_1 = attribute_class_count_1.get(1, 0) / attribute_instances_1\n",
        "        attribute_entropy_1 = 0\n",
        "        if attribute_false_1 > 0:\n",
        "            attribute_entropy_1 += (-attribute_false_1 * np.log2(attribute_false_1))\n",
        "        if attribute_true_1 > 0:\n",
        "            attribute_entropy_1 += (-attribute_true_1 * np.log2(attribute_true_1))\n",
        "    else:\n",
        "        attribute_entropy_1 = 0\n",
        "\n",
        "    # Calculate weighted average entropy and information gain for the attribute\n",
        "    weighted_avg_entropy = ((attribute_instances_0 / curr_instances) * attribute_entropy_0 +\n",
        "                            (attribute_instances_1 / curr_instances) * attribute_entropy_1)\n",
        "\n",
        "    ig = curr_entropy - weighted_avg_entropy\n",
        "    aig.update({attribute: ig})\n",
        "\n",
        "  best_attribute = max(aig, key=aig.get)\n",
        "  new_attributes_remaining = attributesRemaining.copy()\n",
        "  for attribute in new_attributes_remaining:\n",
        "    if attribute == best_attribute:\n",
        "      new_attributes_remaining.remove(attribute)\n",
        "\n",
        "  root.set_label(best_attribute)\n",
        "\n",
        "  # Not Leaf\n",
        "\n",
        "  for value in data[best_attribute].unique():\n",
        "\n",
        "    # Split the tree using the best attribute and recursively call the ID3 function using DFS to fill the sub-tree\n",
        "    child_node = Node()\n",
        "    new_data = data[data[best_attribute] == value].drop(columns=[best_attribute])\n",
        "\n",
        "    ID3(all_data, new_data, child_node, new_attributes_remaining)\n",
        "    root.add_child(value, child_node)\n",
        "\n",
        "  return\n",
        "\n"
      ],
      "execution_count": 186,
      "outputs": []
    },
    {
      "cell_type": "code",
      "metadata": {
        "id": "XELGzRDftS77",
        "colab": {
          "base_uri": "https://localhost:8080/"
        },
        "outputId": "a6540002-b0a6-40b3-fdde-06df238e0c8d"
      },
      "source": [
        "# Following is the base code structure. Feel free to change the code structure as you see fit, maybe even create more functions.\n",
        "\n",
        "# Read the first line in the training data file, to get the number of attributes\n",
        "# Read all the training instances and the ground truth class labels.\n",
        "# Create the decision tree by implementing the ID3 algorithm. Pseudocode provided above.\n",
        "# Print the tree in the example format mentioned.\n",
        "# Use the above created tree to predict the training data and print the accuracy as \"Accuracy on the Training data = x %\"\n",
        "    # For each training instance, predict the output label\n",
        "    # Compare it with the ground truth class label and calculate the accuracy accordingly\n",
        "# Use the above created tree to predict the testing data and print the accuracy as \"Accuracy on the Test data = x %\"\n",
        "    # For each testing instance, predict the output label\n",
        "    # Compare it with the ground truth class label and calculate the accuracy accordingly\n",
        "\n",
        "train_instances_df = pd.read_csv(train, delimiter='\\t')\n",
        "test_instances_df = pd.read_csv(test, delimiter='\\t')\n",
        "\n",
        "attributes = list(train_instances_df.columns)\n",
        "# Remove class from attributes list\n",
        "attributes.pop(-1)\n",
        "\n",
        "# Create the decision tree by implementing the ID3 algorithm. Pseudocode provided above.\n",
        "tree_root = Node()\n",
        "ID3(train_instances_df, train_instances_df.copy(), tree_root, attributes)\n",
        "\n",
        "# Print the tree in the example format mentioned.\n",
        "print(tree_root)\n",
        "\n",
        "# Use the above created tree to predict the training data and print the accuracy as \"Accuracy on the Training data = x %\"\n",
        "training_count = 0\n",
        "training_correct = 0\n",
        "prev_node = None\n",
        "# For each training instance, predict the output label\n",
        "for index, instance in train_instances_df.iterrows():\n",
        "  training_count += 1\n",
        "  curr_node = tree_root\n",
        "  while not curr_node.get_is_leaf():\n",
        "    if(not curr_node.get_is_leaf()):\n",
        "      node_value = instance[curr_node.get_label()]\n",
        "      prev_node = curr_node\n",
        "      curr_node = curr_node.get_children().get(node_value)\n",
        "  if curr_node.get_class_label() == instance['class']:\n",
        "    training_correct += 1\n",
        "\n",
        "# Compare it with the ground truth class label and calculate the accuracy accordingly\n",
        "training_acc = training_correct / training_count\n",
        "print(f\"Accuracy on the Training data = {training_acc}%\")\n",
        "\n",
        "\n",
        "# Use the above created tree to predict the testing data and print the accuracy as \"Accuracy on the Test data = x %\"\n",
        "testing_count = 0\n",
        "testing_correct = 0\n",
        "prev_node = None\n",
        "    # For each testing instance, predict the output label\n",
        "for index, instance in test_instances_df.iterrows():\n",
        "  testing_count += 1\n",
        "  curr_node = tree_root\n",
        "  while not curr_node.get_is_leaf():\n",
        "    if(not curr_node.get_is_leaf()):\n",
        "      node_value = instance[curr_node.get_label()]\n",
        "      prev_node = curr_node\n",
        "      curr_node = curr_node.get_children().get(node_value)\n",
        "  if curr_node.get_class_label() == instance['class']:\n",
        "    testing_correct += 1\n",
        "    # Compare it with the ground truth class label and calculate the accuracy accordingly\n",
        "test_acc = testing_correct / testing_count\n",
        "print(f\"Accuracy on the Test data = {test_acc}%\")\n",
        "\n"
      ],
      "execution_count": 187,
      "outputs": [
        {
          "output_type": "stream",
          "name": "stdout",
          "text": [
            "\n",
            " attr5 = 0\n",
            "    attr6 = 0\n",
            "       attr2 = 0\n",
            "          attr1 = 0\n",
            "             attr4 = 0\n",
            "                attr3 = 0 : 0 -- 9\n",
            "                attr3 = 1 : 0 -- 12\n",
            "             attr4 = 1\n",
            "                attr3 = 0 : 0 -- 13\n",
            "                attr3 = 1 : 0 -- 14\n",
            "          attr1 = 1\n",
            "             attr4 = 0\n",
            "                attr3 = 0 : 0 -- 15\n",
            "                attr3 = 1 : 0 -- 10\n",
            "             attr4 = 1 : 0 -- 30\n",
            "       attr2 = 1\n",
            "          attr4 = 0\n",
            "             attr3 = 0 : 0 -- 25\n",
            "             attr3 = 1\n",
            "                attr1 = 0 : 0 -- 11\n",
            "                attr1 = 1 : 0 -- 18\n",
            "          attr4 = 1\n",
            "             attr1 = 0\n",
            "                attr3 = 0 : 0 -- 10\n",
            "                attr3 = 1 : 0 -- 18\n",
            "             attr1 = 1\n",
            "                attr3 = 0 : 0 -- 12\n",
            "                attr3 = 1 : 0 -- 17\n",
            "    attr6 = 1\n",
            "       attr4 = 0\n",
            "          attr2 = 0\n",
            "             attr3 = 0\n",
            "                attr1 = 0 : 0 -- 11\n",
            "                attr1 = 1 : 0 -- 13\n",
            "             attr3 = 1\n",
            "                attr1 = 0 : 0 -- 9\n",
            "                attr1 = 1 : 0 -- 9\n",
            "          attr2 = 1\n",
            "             attr1 = 0\n",
            "                attr3 = 0 : 0 -- 10\n",
            "                attr3 = 1 : 0 -- 11\n",
            "             attr1 = 1\n",
            "                attr3 = 0 : 0 -- 14\n",
            "                attr3 = 1 : 0 -- 16\n",
            "       attr4 = 1\n",
            "          attr2 = 0\n",
            "             attr1 = 0\n",
            "                attr3 = 0 : 0 -- 18\n",
            "                attr3 = 1 : 0 -- 12\n",
            "             attr1 = 1\n",
            "                attr3 = 0 : 0 -- 13\n",
            "                attr3 = 1 : 0 -- 10\n",
            "          attr2 = 1\n",
            "             attr1 = 0\n",
            "                attr3 = 0 : 1 -- 11\n",
            "                attr3 = 1 : 1 -- 9\n",
            "             attr1 = 1\n",
            "                attr3 = 0 : 0 -- 9\n",
            "                attr3 = 1 : 0 -- 8\n",
            " attr5 = 1\n",
            "    attr6 = 0\n",
            "       attr3 = 0\n",
            "          attr4 = 0\n",
            "             attr1 = 0\n",
            "                attr2 = 0 : 0 -- 14\n",
            "                attr2 = 1 : 0 -- 11\n",
            "             attr1 = 1\n",
            "                attr2 = 0 : 0 -- 8\n",
            "                attr2 = 1 : 0 -- 14\n",
            "          attr4 = 1\n",
            "             attr1 = 0\n",
            "                attr2 = 0 : 1 -- 16\n",
            "                attr2 = 1 : 1 -- 20\n",
            "             attr1 = 1\n",
            "                attr2 = 0 : 0 -- 11\n",
            "                attr2 = 1 : 0 -- 9\n",
            "       attr3 = 1\n",
            "          attr2 = 0\n",
            "             attr4 = 0\n",
            "                attr1 = 0 : 1 -- 13\n",
            "                attr1 = 1 : 1 -- 14\n",
            "             attr4 = 1 : 1 -- 28\n",
            "          attr2 = 1\n",
            "             attr1 = 0\n",
            "                attr4 = 0 : 1 -- 14\n",
            "                attr4 = 1 : 1 -- 9\n",
            "             attr1 = 1\n",
            "                attr4 = 0 : 1 -- 8\n",
            "                attr4 = 1 : 0 -- 14\n",
            "    attr6 = 1\n",
            "       attr4 = 0\n",
            "          attr2 = 0\n",
            "             attr3 = 0\n",
            "                attr1 = 0 : 0 -- 18\n",
            "                attr1 = 1 : 0 -- 11\n",
            "             attr3 = 1 : 0 -- 26\n",
            "          attr2 = 1\n",
            "             attr1 = 0\n",
            "                attr3 = 0 : 0 -- 14\n",
            "                attr3 = 1 : 0 -- 14\n",
            "             attr1 = 1 : 0 -- 14\n",
            "       attr4 = 1\n",
            "          attr1 = 0\n",
            "             attr2 = 0\n",
            "                attr3 = 0 : 0 -- 11\n",
            "                attr3 = 1 : 1 -- 13\n",
            "             attr2 = 1\n",
            "                attr3 = 0 : 1 -- 12\n",
            "                attr3 = 1 : 0 -- 14\n",
            "          attr1 = 1\n",
            "             attr2 = 0\n",
            "                attr3 = 0 : 0 -- 10\n",
            "                attr3 = 1 : 0 -- 13\n",
            "             attr2 = 1\n",
            "                attr3 = 0 : 0 -- 16\n",
            "                attr3 = 1 : 0 -- 14\n",
            "\n",
            "Accuracy on the Training data = 0.89375%\n",
            "Accuracy on the Test data = 0.8719211822660099%\n"
          ]
        }
      ]
    },
    {
      "cell_type": "markdown",
      "metadata": {
        "id": "YvYowzzA4vcd"
      },
      "source": [
        "##Extra Credit - Learning Curve\n",
        "\n",
        "(05 points)\n",
        "\n",
        "Instead of taking the entire training data (all 800 instances), loop through to select 'x' instances in the increments of 40 (i.e. 40, 80, 120, and so on). For each selected number 'x', randomly pick the example instances from the training data and call the ID3 function to create the decision tree. Calculate the accuracy of the created ID3 tree on the Test data file. Plot the corresponding graph, aka Learning Curve.\n"
      ]
    },
    {
      "cell_type": "code",
      "metadata": {
        "id": "FYSK99zp5a7H",
        "colab": {
          "base_uri": "https://localhost:8080/",
          "height": 564
        },
        "outputId": "dd8b2fdb-03ae-4c4c-dc40-257e172a713a"
      },
      "source": [
        "# Loop through to select the number of instances 'x' in increments of 40\n",
        "# For each 'x',\n",
        "    # Randomly select 'x' instances\n",
        "    # Create the ID3 decision tree using those instances\n",
        "    # Calculate the accuracy of the ID3 tree created on the Test data\n",
        "\n",
        "# Plot the learning curve using the accuracy values\n",
        "    # X-axis will be the number of training instances used for creating the tree\n",
        "    # Y-axis will be the accuracy in % on the Test data\n",
        "\n",
        "def calculate_accuracy(tree_root, data):\n",
        "    correct = 0\n",
        "    for index, instance in data.iterrows():\n",
        "        curr_node = tree_root\n",
        "        while not curr_node.get_is_leaf():\n",
        "            node_value = instance[curr_node.get_label()]\n",
        "            if node_value in curr_node.get_children():\n",
        "                curr_node = curr_node.get_children().get(node_value)\n",
        "            else:\n",
        "                break  # Handle unseen attribute value case\n",
        "        if curr_node.get_is_leaf() and curr_node.get_class_label() == instance['class']:\n",
        "            correct += 1\n",
        "    return correct / len(data)\n",
        "\n",
        "# Define ranges for 'x' (40, 80, 120, ..., up to size of train_instances_df)\n",
        "increment = 40\n",
        "max_instances = len(train_instances_df)\n",
        "instances_range = range(increment, min(max_instances, 800) + 1, increment)\n",
        "\n",
        "# Initialize list to keep track of accuracies\n",
        "accuracies = []\n",
        "\n",
        "for x in instances_range:\n",
        "    # Randomly select 'x' instances from the training data\n",
        "    sampled_data = train_instances_df.sample(n=x, random_state=42)\n",
        "\n",
        "    # Create a new tree root for each iteration\n",
        "    tree_root = Node()\n",
        "\n",
        "    # Run ID3 on the sampled data\n",
        "    ID3(sampled_data, sampled_data, tree_root, attributes)\n",
        "\n",
        "    # Calculate accuracy on the test data\n",
        "    accuracy = calculate_accuracy(tree_root, test_instances_df) * 100\n",
        "    accuracies.append(accuracy)\n",
        "\n",
        "# Plotting the learning curve\n",
        "plt.figure(figsize=(10, 6))\n",
        "plt.plot(instances_range, accuracies, marker='o', linestyle='-', color='b')\n",
        "plt.title('Learning Curve: Accuracy of ID3 Decision Tree on Test Data')\n",
        "plt.xlabel('Number of Training Instances')\n",
        "plt.ylabel('Accuracy (%)')\n",
        "plt.grid(True)\n",
        "plt.show()\n"
      ],
      "execution_count": 188,
      "outputs": [
        {
          "output_type": "display_data",
          "data": {
            "text/plain": [
              "<Figure size 1000x600 with 1 Axes>"
            ],
            "image/png": "[encoded data removed]"
          },
          "metadata": {}
        }
      ]
    },
    {
      "cell_type": "markdown",
      "metadata": {
        "id": "YJSFgNBQrhQU"
      },
      "source": [
        "#Submission Instructions\n",
        "\n",
        "1.   Complete all tasks above - **File MUST contain the output for ALL cells**\n",
        "2.   Export this notebook as .ipynb\n",
        "      (File > Download as ipynb)\n",
        "3.   Upload the .ipynb file on Blackboard"
      ]
    },
    {
      "cell_type": "markdown",
      "metadata": {
        "id": "0lGvLE9H6ptL"
      },
      "source": [
        "##Rubric\n",
        "\n",
        "*   (40 points) Gradient Descent Algorithm\n",
        "*   (05 points) Extra Credit - GD Accuracy Plots\n",
        "*   (85 points) ID3 Algorithm\n",
        "*   (05 points) Extra Credit - ID3 Learning Curve\n"
      ]
    }
  ]
}